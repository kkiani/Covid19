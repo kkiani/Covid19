{
  "cells": [
    {
      "metadata": {},
      "cell_type": "markdown",
      "source": "COVID19 Crisis\n=======\n\nCopyright 2020. Kiarash Kiani.\n* **Home Page:**    http://kiarash.info\n* **Email:**        hi@kiarash.info\n* **GitHub:**       github.com/kkiani\n\n## Introduction\nCoronavirus disease 2019 (COVID-19) is an infectious disease caused by severe acute respiratory syndrome coronavirus 2 (SARS-CoV-2). The disease was first identified in 2019 in Wuhan, China, and has since spread globally, resulting in the 2019–20 coronavirus pandemic. According to the World Health Organization (WHO), the most common symptoms are fever, tiredness, and dry cough.\n\n[Read more on Wikipedia](https://en.wikipedia.org/wiki/Coronavirus_disease_2019)"
    },
    {
      "metadata": {},
      "cell_type": "markdown",
      "source": "## Dataset\nThis dataset provided by [Our World in Data](https://ourworldindata.org/coronavirus-source-data) website. In the first steps we do some basic Pandas manipulation inorder to get know the nature of our data better.\n\n<span style=\"background-color: red;\">*ATTENTION: This notebook created by the time that dataset has only recoreds until 15 march 2020.*</span>"
    },
    {
      "metadata": {
        "trusted": true,
        "scrolled": true
      },
      "cell_type": "code",
      "source": "import pandas as pd\nimport matplotlib.pyplot as plt\nimport numpy as np\nfrom sklearn.metrics import mean_squared_error\nfrom scipy.optimize import curve_fit\nfrom scipy.optimize import fsolve",
      "execution_count": 1,
      "outputs": []
    },
    {
      "metadata": {
        "trusted": true
      },
      "cell_type": "code",
      "source": "total_cases_path = 'https://covid.ourworldindata.org/data/ecdc/total_cases.csv'\ntotal_deaths_path = 'https://covid.ourworldindata.org/data/ecdc/total_deaths.csv'\nnew_cases_path = 'https://covid.ourworldindata.org/data/ecdc/new_cases.csv'\n\ndf = pd.read_csv(total_cases_path)",
      "execution_count": 2,
      "outputs": []
    },
    {
      "metadata": {},
      "cell_type": "markdown",
      "source": "List of countries"
    },
    {
      "metadata": {
        "trusted": true
      },
      "cell_type": "code",
      "source": "df.columns.values",
      "execution_count": 3,
      "outputs": [
        {
          "output_type": "execute_result",
          "execution_count": 3,
          "data": {
            "text/plain": "array(['date', 'World', 'Afghanistan', 'Albania', 'Algeria', 'Andorra',\n       'Angola', 'Antigua and Barbuda', 'Argentina', 'Armenia',\n       'Australia', 'Austria', 'Azerbaijan', 'Bahamas', 'Bahrain',\n       'Bangladesh', 'Barbados', 'Belarus', 'Belgium', 'Benin', 'Bermuda',\n       'Bhutan', 'Bolivia', 'Bosnia and Herzegovina', 'Brazil', 'Brunei',\n       'Bulgaria', 'Burkina Faso', 'Cambodia', 'Cameroon', 'Canada',\n       'Cape Verde', 'Cayman Islands', 'Central African Republic', 'Chad',\n       'Chile', 'China', 'Colombia', 'Congo', 'Costa Rica',\n       \"Cote d'Ivoire\", 'Croatia', 'Cuba', 'Cyprus', 'Czech Republic',\n       'Democratic Republic of Congo', 'Denmark', 'Djibouti', 'Dominica',\n       'Dominican Republic', 'Ecuador', 'Egypt', 'El Salvador',\n       'Equatorial Guinea', 'Eritrea', 'Estonia', 'Ethiopia',\n       'Faeroe Islands', 'Fiji', 'Finland', 'France', 'French Polynesia',\n       'Gabon', 'Gambia', 'Georgia', 'Germany', 'Ghana', 'Gibraltar',\n       'Greece', 'Greenland', 'Grenada', 'Guam', 'Guatemala', 'Guernsey',\n       'Guinea', 'Guyana', 'Haiti', 'Honduras', 'Hungary', 'Iceland',\n       'India', 'Indonesia', 'International', 'Iran', 'Iraq', 'Ireland',\n       'Isle of Man', 'Israel', 'Italy', 'Jamaica', 'Japan', 'Jersey',\n       'Jordan', 'Kazakhstan', 'Kenya', 'Kosovo', 'Kuwait', 'Kyrgyzstan',\n       'Latvia', 'Lebanon', 'Liberia', 'Liechtenstein', 'Lithuania',\n       'Luxembourg', 'Macedonia', 'Madagascar', 'Malaysia', 'Maldives',\n       'Malta', 'Mauritania', 'Mauritius', 'Mexico', 'Moldova', 'Monaco',\n       'Mongolia', 'Montenegro', 'Montserrat', 'Morocco', 'Mozambique',\n       'Myanmar', 'Namibia', 'Nepal', 'Netherlands',\n       'Netherlands Antilles', 'New Caledonia', 'New Zealand',\n       'Nicaragua', 'Niger', 'Nigeria', 'Norway', 'Oman', 'Pakistan',\n       'Palestine', 'Panama', 'Papua New Guinea', 'Paraguay', 'Peru',\n       'Philippines', 'Poland', 'Portugal', 'Qatar', 'Romania', 'Russia',\n       'Rwanda', 'Saint Lucia', 'Saint Vincent and the Grenadines',\n       'San Marino', 'Saudi Arabia', 'Senegal', 'Serbia', 'Seychelles',\n       'Singapore', 'Slovakia', 'Slovenia', 'Somalia', 'South Africa',\n       'South Korea', 'Spain', 'Sri Lanka', 'Sudan', 'Suriname',\n       'Swaziland', 'Sweden', 'Switzerland', 'Syria', 'Taiwan',\n       'Tanzania', 'Thailand', 'Timor', 'Togo', 'Trinidad and Tobago',\n       'Tunisia', 'Turkey', 'Uganda', 'Ukraine', 'United Arab Emirates',\n       'United Kingdom', 'United States', 'Uruguay', 'Uzbekistan',\n       'Vatican', 'Venezuela', 'Vietnam', 'Zambia', 'Zimbabwe'],\n      dtype=object)"
          },
          "metadata": {}
        }
      ]
    },
    {
      "metadata": {},
      "cell_type": "markdown",
      "source": "### Most Affected Countries"
    },
    {
      "metadata": {
        "trusted": true
      },
      "cell_type": "code",
      "source": "last_row  = df.tail(1).copy()\nlast_row.drop(['World', 'date'], axis=1, inplace=True)\n\nlast_row = last_row.T\nlast_row.reset_index()\nlast_row.columns = ['total cases']",
      "execution_count": 4,
      "outputs": []
    },
    {
      "metadata": {
        "trusted": true,
        "scrolled": true
      },
      "cell_type": "code",
      "source": "last_row.sort_values(['total cases'], ascending=False).head(5)",
      "execution_count": 5,
      "outputs": [
        {
          "output_type": "execute_result",
          "execution_count": 5,
          "data": {
            "text/html": "<div>\n<style scoped>\n    .dataframe tbody tr th:only-of-type {\n        vertical-align: middle;\n    }\n\n    .dataframe tbody tr th {\n        vertical-align: top;\n    }\n\n    .dataframe thead th {\n        text-align: right;\n    }\n</style>\n<table border=\"1\" class=\"dataframe\">\n  <thead>\n    <tr style=\"text-align: right;\">\n      <th></th>\n      <th>total cases</th>\n    </tr>\n  </thead>\n  <tbody>\n    <tr>\n      <th>China</th>\n      <td>81649.0</td>\n    </tr>\n    <tr>\n      <th>Italy</th>\n      <td>59138.0</td>\n    </tr>\n    <tr>\n      <th>United States</th>\n      <td>35206.0</td>\n    </tr>\n    <tr>\n      <th>Spain</th>\n      <td>28572.0</td>\n    </tr>\n    <tr>\n      <th>Germany</th>\n      <td>24774.0</td>\n    </tr>\n  </tbody>\n</table>\n</div>",
            "text/plain": "               total cases\nChina              81649.0\nItaly              59138.0\nUnited States      35206.0\nSpain              28572.0\nGermany            24774.0"
          },
          "metadata": {}
        }
      ]
    },
    {
      "metadata": {},
      "cell_type": "markdown",
      "source": "### Less Affected Countries"
    },
    {
      "metadata": {
        "trusted": true
      },
      "cell_type": "code",
      "source": "last_row.sort_values(['total cases'], ascending=False).tail(5)",
      "execution_count": 6,
      "outputs": [
        {
          "output_type": "execute_result",
          "execution_count": 6,
          "data": {
            "text/html": "<div>\n<style scoped>\n    .dataframe tbody tr th:only-of-type {\n        vertical-align: middle;\n    }\n\n    .dataframe tbody tr th {\n        vertical-align: top;\n    }\n\n    .dataframe thead th {\n        text-align: right;\n    }\n</style>\n<table border=\"1\" class=\"dataframe\">\n  <thead>\n    <tr style=\"text-align: right;\">\n      <th></th>\n      <th>total cases</th>\n    </tr>\n  </thead>\n  <tbody>\n    <tr>\n      <th>Syria</th>\n      <td>1.0</td>\n    </tr>\n    <tr>\n      <th>Eritrea</th>\n      <td>1.0</td>\n    </tr>\n    <tr>\n      <th>International</th>\n      <td>NaN</td>\n    </tr>\n    <tr>\n      <th>Myanmar</th>\n      <td>NaN</td>\n    </tr>\n    <tr>\n      <th>Saint Vincent and the Grenadines</th>\n      <td>NaN</td>\n    </tr>\n  </tbody>\n</table>\n</div>",
            "text/plain": "                                  total cases\nSyria                                     1.0\nEritrea                                   1.0\nInternational                             NaN\nMyanmar                                   NaN\nSaint Vincent and the Grenadines          NaN"
          },
          "metadata": {}
        }
      ]
    },
    {
      "metadata": {},
      "cell_type": "markdown",
      "source": "### Days we pass"
    },
    {
      "metadata": {
        "trusted": true
      },
      "cell_type": "code",
      "source": "months = df.shape[0]//30\ndays = df.shape[0]%30\n\nprint(f'{months} months and {days} days. {df.shape[0]} days in total.')",
      "execution_count": 7,
      "outputs": [
        {
          "output_type": "stream",
          "text": "2 months and 24 days. 84 days in total.\n",
          "name": "stdout"
        }
      ]
    },
    {
      "metadata": {},
      "cell_type": "markdown",
      "source": "### Ploting data"
    },
    {
      "metadata": {
        "trusted": true,
        "code_folding": []
      },
      "cell_type": "code",
      "source": "most_affected_countries = last_row.sort_values(['total cases'], ascending=False).head(5).index.values\n\nfor country_name in most_affected_countries:\n    country_data = df[country_name].fillna(0).values\n    plt.plot(country_data, label=country_name)\n\nplt.legend()\nplt.show()",
      "execution_count": 8,
      "outputs": [
        {
          "output_type": "display_data",
          "data": {
            "image/png": "[encoded data removed]",
            "text/plain": "<Figure size 432x288 with 1 Axes>"
          },
          "metadata": {
            "needs_background": "light"
          }
        }
      ]
    },
    {
      "metadata": {},
      "cell_type": "markdown",
      "source": "Let plot data for Iran"
    },
    {
      "metadata": {
        "trusted": true
      },
      "cell_type": "code",
      "source": "iran = df['Iran'].fillna(0).values\n\nplt.plot(iran, label='Iran')\nplt.legend()\nplt.show()",
      "execution_count": 9,
      "outputs": [
        {
          "output_type": "display_data",
          "data": {
            "image/png": "[encoded data removed]",
            "text/plain": "<Figure size 432x288 with 1 Axes>"
          },
          "metadata": {
            "needs_background": "light"
          }
        }
      ]
    },
    {
      "metadata": {
        "trusted": true
      },
      "cell_type": "markdown",
      "source": "## Modeling\n\nExponential and Logistic model is widely use to represent the growing behrvior of COVID19. While the Exponential model can represent how it begin to spread, the virus is going to stop spreading more even if everyone affected in some point which logistic model can shows this behavior too. "
    },
    {
      "metadata": {},
      "cell_type": "markdown",
      "source": "### Exponential Model"
    },
    {
      "metadata": {
        "trusted": true
      },
      "cell_type": "code",
      "source": "def exponential_model(x,a,b,c):\n    return a*np.exp(b*(x-c))",
      "execution_count": 10,
      "outputs": []
    },
    {
      "metadata": {
        "trusted": true
      },
      "cell_type": "code",
      "source": "target_y = df[df['Iran'] != 0]['Iran'].values\nx = np.arange(len(target_y))",
      "execution_count": 12,
      "outputs": []
    },
    {
      "metadata": {
        "trusted": true
      },
      "cell_type": "code",
      "source": "exp_fit = curve_fit(exponential_model, x, target_y, p0=[1,1,1])",
      "execution_count": 13,
      "outputs": []
    },
    {
      "metadata": {
        "trusted": true,
        "scrolled": true
      },
      "cell_type": "code",
      "source": "optimum_a = exp_fit[0][0]\noptimum_b = exp_fit[0][1]\noptimum_c = exp_fit[0][2]\n\ny = exponential_model(x, optimum_a, optimum_b, optimum_c)\n\nplt.plot(x, y)\nplt.scatter(x, target_y, c='r')\nplt.show()",
      "execution_count": 14,
      "outputs": [
        {
          "output_type": "display_data",
          "data": {
            "image/png": "[encoded data removed]",
            "text/plain": "<Figure size 432x288 with 1 Axes>"
          },
          "metadata": {
            "needs_background": "light"
          }
        }
      ]
    },
    {
      "metadata": {},
      "cell_type": "markdown",
      "source": "### Logistic Model"
    },
    {
      "metadata": {
        "trusted": true
      },
      "cell_type": "code",
      "source": "",
      "execution_count": null,
      "outputs": []
    }
  ],
  "metadata": {
    "kernelspec": {
      "name": "python36",
      "display_name": "Python 3.6",
      "language": "python"
    },
    "toc": {
      "nav_menu": {},
      "number_sections": true,
      "sideBar": false,
      "skip_h1_title": true,
      "base_numbering": 1,
      "title_cell": "Table of Contents",
      "title_sidebar": "Contents",
      "toc_cell": false,
      "toc_position": {
        "height": "293px",
        "width": "241px",
        "left": "1100px",
        "top": "179px"
      },
      "toc_section_display": true,
      "toc_window_display": false
    },
    "varInspector": {
      "window_display": false,
      "cols": {
        "lenName": 16,
        "lenType": 16,
        "lenVar": 40
      },
      "kernels_config": {
        "python": {
          "library": "var_list.py",
          "delete_cmd_prefix": "del ",
          "delete_cmd_postfix": "",
          "varRefreshCmd": "print(var_dic_list())"
        },
        "r": {
          "library": "var_list.r",
          "delete_cmd_prefix": "rm(",
          "delete_cmd_postfix": ") ",
          "varRefreshCmd": "cat(var_dic_list()) "
        }
      },
      "types_to_exclude": [
        "module",
        "function",
        "builtin_function_or_method",
        "instance",
        "_Feature"
      ]
    },
    "language_info": {
      "mimetype": "text/x-python",
      "nbconvert_exporter": "python",
      "name": "python",
      "pygments_lexer": "ipython3",
      "version": "3.6.6",
      "file_extension": ".py",
      "codemirror_mode": {
        "version": 3,
        "name": "ipython"
      }
    }
  },
  "nbformat": 4,
  "nbformat_minor": 1
}