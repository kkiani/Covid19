{
  "cells": [
    {
      "metadata": {},
      "cell_type": "markdown",
      "source": "COVID19 Crisis\n=======\n\nCopyright 2020. Kiarash Kiani.\n* **Home Page:**    http://kiarash.info\n* **Email:**        hi@kiarash.info\n* **GitHub:**       github.com/kkiani\n\n## Introduction\nCoronavirus disease 2019 (COVID-19) is an infectious disease caused by severe acute respiratory syndrome coronavirus 2 (SARS-CoV-2). The disease was first identified in 2019 in Wuhan, China, and has since spread globally, resulting in the 2019–20 coronavirus pandemic. According to the World Health Organization (WHO), the most common symptoms are fever, tiredness, and dry cough.\n\n[Read more on Wikipedia](https://en.wikipedia.org/wiki/Coronavirus_disease_2019)"
    },
    {
      "metadata": {},
      "cell_type": "markdown",
      "source": "## Dataset\nThis dataset provided by [Our World in Data](https://ourworldindata.org/coronavirus-source-data) website. In the first steps we do some basic Pandas manipulation inorder to get know the nature of our data better.\n\n<span style=\"background-color: red;\">*ATTENTION: This notebook created by the time that dataset has only recoreds until 15 march 2020.*</span>"
    },
    {
      "metadata": {
        "trusted": true,
        "scrolled": true
      },
      "cell_type": "code",
      "source": "import pandas as pd\nimport matplotlib.pyplot as plt\nimport numpy as np\nfrom sklearn.metrics import mean_squared_error\nfrom scipy.optimize import curve_fit\nfrom scipy.optimize import fsolve",
      "execution_count": 1,
      "outputs": []
    },
    {
      "metadata": {
        "trusted": true
      },
      "cell_type": "code",
      "source": "total_cases_path = 'https://covid.ourworldindata.org/data/ecdc/total_cases.csv'\ntotal_deaths_path = 'https://covid.ourworldindata.org/data/ecdc/total_deaths.csv'\nnew_cases_path = 'https://covid.ourworldindata.org/data/ecdc/new_cases.csv'\n\ndf = pd.read_csv(total_cases_path)",
      "execution_count": 2,
      "outputs": []
    },
    {
      "metadata": {},
      "cell_type": "markdown",
      "source": "List of countries"
    },
    {
      "metadata": {
        "trusted": true
      },
      "cell_type": "code",
      "source": "df.columns.values",
      "execution_count": null,
      "outputs": []
    },
    {
      "metadata": {},
      "cell_type": "markdown",
      "source": "### Most Affected Countries"
    },
    {
      "metadata": {
        "trusted": true
      },
      "cell_type": "code",
      "source": "last_row  = df.tail(1).copy()\nlast_row.drop(['World', 'date'], axis=1, inplace=True)\n\nlast_row = last_row.T\nlast_row.reset_index()\nlast_row.columns = ['total cases']",
      "execution_count": 3,
      "outputs": []
    },
    {
      "metadata": {
        "trusted": true,
        "scrolled": true
      },
      "cell_type": "code",
      "source": "last_row.sort_values(['total cases'], ascending=False).head(5)",
      "execution_count": 4,
      "outputs": [
        {
          "output_type": "execute_result",
          "execution_count": 4,
          "data": {
            "text/html": "<div>\n<style scoped>\n    .dataframe tbody tr th:only-of-type {\n        vertical-align: middle;\n    }\n\n    .dataframe tbody tr th {\n        vertical-align: top;\n    }\n\n    .dataframe thead th {\n        text-align: right;\n    }\n</style>\n<table border=\"1\" class=\"dataframe\">\n  <thead>\n    <tr style=\"text-align: right;\">\n      <th></th>\n      <th>total cases</th>\n    </tr>\n  </thead>\n  <tbody>\n    <tr>\n      <th>United States</th>\n      <td>245540.0</td>\n    </tr>\n    <tr>\n      <th>Italy</th>\n      <td>115242.0</td>\n    </tr>\n    <tr>\n      <th>Spain</th>\n      <td>110238.0</td>\n    </tr>\n    <tr>\n      <th>China</th>\n      <td>82465.0</td>\n    </tr>\n    <tr>\n      <th>Germany</th>\n      <td>73522.0</td>\n    </tr>\n  </tbody>\n</table>\n</div>",
            "text/plain": "               total cases\nUnited States     245540.0\nItaly             115242.0\nSpain             110238.0\nChina              82465.0\nGermany            73522.0"
          },
          "metadata": {}
        }
      ]
    },
    {
      "metadata": {},
      "cell_type": "markdown",
      "source": "### Less Affected Countries"
    },
    {
      "metadata": {
        "trusted": true
      },
      "cell_type": "code",
      "source": "last_row.sort_values(['total cases'], ascending=False).tail(5)",
      "execution_count": 5,
      "outputs": [
        {
          "output_type": "execute_result",
          "execution_count": 5,
          "data": {
            "text/html": "<div>\n<style scoped>\n    .dataframe tbody tr th:only-of-type {\n        vertical-align: middle;\n    }\n\n    .dataframe tbody tr th {\n        vertical-align: top;\n    }\n\n    .dataframe thead th {\n        text-align: right;\n    }\n</style>\n<table border=\"1\" class=\"dataframe\">\n  <thead>\n    <tr style=\"text-align: right;\">\n      <th></th>\n      <th>total cases</th>\n    </tr>\n  </thead>\n  <tbody>\n    <tr>\n      <th>Saint Vincent and the Grenadines</th>\n      <td>2.0</td>\n    </tr>\n    <tr>\n      <th>Papua New Guinea</th>\n      <td>1.0</td>\n    </tr>\n    <tr>\n      <th>Timor</th>\n      <td>1.0</td>\n    </tr>\n    <tr>\n      <th>International</th>\n      <td>NaN</td>\n    </tr>\n    <tr>\n      <th>Saint Barthlemy</th>\n      <td>NaN</td>\n    </tr>\n  </tbody>\n</table>\n</div>",
            "text/plain": "                                  total cases\nSaint Vincent and the Grenadines          2.0\nPapua New Guinea                          1.0\nTimor                                     1.0\nInternational                             NaN\nSaint Barthlemy                           NaN"
          },
          "metadata": {}
        }
      ]
    },
    {
      "metadata": {},
      "cell_type": "markdown",
      "source": "### Days we pass"
    },
    {
      "metadata": {
        "trusted": true
      },
      "cell_type": "code",
      "source": "months = df.shape[0]//30\ndays = df.shape[0]%30\n\nprint(f'{months} months and {days} days. {df.shape[0]} days in total.')",
      "execution_count": 6,
      "outputs": [
        {
          "output_type": "stream",
          "text": "3 months and 5 days. 95 days in total.\n",
          "name": "stdout"
        }
      ]
    },
    {
      "metadata": {},
      "cell_type": "markdown",
      "source": "### Ploting data"
    },
    {
      "metadata": {
        "trusted": true,
        "code_folding": []
      },
      "cell_type": "code",
      "source": "most_affected_countries = last_row.sort_values(['total cases'], ascending=False).head(5).index.values\n\nfor country_name in most_affected_countries:\n    country_data = df[country_name].fillna(0).values\n    plt.plot(country_data, label=country_name)\n\nplt.legend()\nplt.show()",
      "execution_count": 7,
      "outputs": [
        {
          "output_type": "display_data",
          "data": {
            "image/png": "[encoded data removed]",
            "text/plain": "<Figure size 432x288 with 1 Axes>"
          },
          "metadata": {
            "needs_background": "light"
          }
        }
      ]
    },
    {
      "metadata": {},
      "cell_type": "markdown",
      "source": "Let plot data for Iran"
    },
    {
      "metadata": {
        "trusted": true
      },
      "cell_type": "code",
      "source": "iran = df['Iran'].fillna(0).values\n\nplt.plot(iran, label='Iran')\nplt.legend()\nplt.show()",
      "execution_count": 8,
      "outputs": [
        {
          "output_type": "display_data",
          "data": {
            "image/png": "[encoded data removed]",
            "text/plain": "<Figure size 432x288 with 1 Axes>"
          },
          "metadata": {
            "needs_background": "light"
          }
        }
      ]
    },
    {
      "metadata": {
        "trusted": true
      },
      "cell_type": "markdown",
      "source": "## Modeling\n\nExponential and Logistic model is widely use to represent the growing behrvior of COVID19. While the Exponential model can represent how it begin to spread, the virus is going to stop spreading more even if everyone affected in some point which logistic model can shows this behavior too. "
    },
    {
      "metadata": {},
      "cell_type": "markdown",
      "source": "### Exponential Model"
    },
    {
      "metadata": {
        "trusted": true
      },
      "cell_type": "code",
      "source": "def exponential_model(x,a,b,c):\n    return a*np.exp(b*(x-c))",
      "execution_count": 9,
      "outputs": []
    },
    {
      "metadata": {
        "trusted": true
      },
      "cell_type": "code",
      "source": "target_y = df[df['Iran'] != 0]['Iran'].values\nx = np.arange(len(target_y))",
      "execution_count": 10,
      "outputs": []
    },
    {
      "metadata": {
        "trusted": true
      },
      "cell_type": "code",
      "source": "exp_fit = curve_fit(exponential_model, x, target_y, p0=[1,1,1])",
      "execution_count": 11,
      "outputs": []
    },
    {
      "metadata": {
        "trusted": true,
        "scrolled": true
      },
      "cell_type": "code",
      "source": "optimum_a = exp_fit[0][0]\noptimum_b = exp_fit[0][1]\noptimum_c = exp_fit[0][2]\n\ny = exponential_model(x, optimum_a, optimum_b, optimum_c)\n\nplt.plot(x, y)\nplt.scatter(x, target_y, c='r')\nplt.show()",
      "execution_count": 12,
      "outputs": [
        {
          "output_type": "display_data",
          "data": {
            "image/png": "[encoded data removed]",
            "text/plain": "<Figure size 432x288 with 1 Axes>"
          },
          "metadata": {
            "needs_background": "light"
          }
        }
      ]
    },
    {
      "metadata": {
        "trusted": true
      },
      "cell_type": "code",
      "source": "x = np.arange(99)\ny = exponential_model(x, optimum_a, optimum_b, optimum_c)\nplt.plot(x, y)\nplt.show()",
      "execution_count": null,
      "outputs": []
    },
    {
      "metadata": {},
      "cell_type": "markdown",
      "source": "### Logistic Model"
    },
    {
      "metadata": {
        "trusted": true
      },
      "cell_type": "code",
      "source": "def logistic_model(x,a,b,c):\n    return c/(1+np.exp(-(x-b)/a))",
      "execution_count": null,
      "outputs": []
    },
    {
      "metadata": {
        "trusted": true
      },
      "cell_type": "code",
      "source": "logistic_fit = curve_fit(logistic_model, x, target_y, p0=[2,100,20000])",
      "execution_count": null,
      "outputs": []
    },
    {
      "metadata": {
        "trusted": true
      },
      "cell_type": "code",
      "source": "optimum_a = logistic_fit[0][0]\noptimum_b = logistic_fit[0][1]\noptimum_c = logistic_fit[0][2]\n\ny = logistic_model(x, optimum_a, optimum_b, optimum_c)\n\nplt.plot(x, y)\nplt.scatter(x, target_y, c='r')\nplt.show()",
      "execution_count": null,
      "outputs": []
    },
    {
      "metadata": {
        "trusted": true
      },
      "cell_type": "markdown",
      "source": "### LSTM Model"
    },
    {
      "metadata": {
        "trusted": true
      },
      "cell_type": "code",
      "source": "from keras.models import Sequential\nfrom keras.layers import LSTM, Dense\nfrom keras.optimizers import Adam",
      "execution_count": 43,
      "outputs": []
    },
    {
      "metadata": {
        "trusted": true
      },
      "cell_type": "code",
      "source": "look_back = 1",
      "execution_count": 49,
      "outputs": []
    },
    {
      "metadata": {
        "trusted": true
      },
      "cell_type": "code",
      "source": "def generate_dataset(data: np.array, look_back=1):\n    x = []\n    y = []\n    for i in range(len(data) - look_back - 1):\n        a = data[i:(i+look_back)]\n        x.append(a)\n        y.append(data[i+look_back])\n        \n    return np.array(x), np.array(y)",
      "execution_count": 15,
      "outputs": []
    },
    {
      "metadata": {
        "trusted": true
      },
      "cell_type": "code",
      "source": "a, b = generate_dataset(target_y, look_back)\na = a.reshape(a.shape[0], a.shape[1], 1)\na.shape",
      "execution_count": 50,
      "outputs": [
        {
          "output_type": "execute_result",
          "execution_count": 50,
          "data": {
            "text/plain": "(42, 1, 1)"
          },
          "metadata": {}
        }
      ]
    },
    {
      "metadata": {
        "trusted": true
      },
      "cell_type": "code",
      "source": "b",
      "execution_count": 23,
      "outputs": [
        {
          "output_type": "execute_result",
          "execution_count": 23,
          "data": {
            "text/plain": "array([   18,    28,    43,    61,    95,   139,   245,   388,   593,\n         978,  1501,  2336,  2922,  3513,  4747,  5823,  6566,  7161,\n        8042,  9000, 10075, 11364, 12729, 13938, 14991, 16169, 17361,\n       18407, 19644, 20610, 21638, 23049, 24811, 27017, 29406, 32332,\n       35408, 38309, 41495, 44606, 47593])"
          },
          "metadata": {}
        }
      ]
    },
    {
      "metadata": {
        "trusted": true
      },
      "cell_type": "code",
      "source": "model = Sequential()\n\nmodel.add(LSTM(4, input_shape=(look_back, 1), return_sequences=True))\nmodel.add(LSTM(2))\nmodel.add(Dense(1))\n\n\nopt = Adam(learning_rate=0.1)\n\nmodel.compile(optimizer=opt, loss='mse')\nhistory = model.fit(a, b, epochs=100, batch_size=1, verbose=2)",
      "execution_count": 51,
      "outputs": [
        {
          "output_type": "stream",
          "text": "Epoch 1/100\n - 5s - loss: 376164629.8167\nEpoch 2/100\n - 0s - loss: 375951688.7897\nEpoch 3/100\n - 0s - loss: 375744097.9369\nEpoch 4/100\n - 0s - loss: 375924959.0340\nEpoch 5/100\n - 0s - loss: 375917177.4269\nEpoch 6/100\n - 0s - loss: 375835547.1489\nEpoch 7/100\n - 0s - loss: 375754363.3634\nEpoch 8/100\n - 0s - loss: 375674743.0431\nEpoch 9/100\n - 0s - loss: 375591481.4955\nEpoch 10/100\n - 0s - loss: 375511114.6494\nEpoch 11/100\n - 0s - loss: 375330371.3253\nEpoch 12/100\n - 0s - loss: 375036846.5474\nEpoch 13/100\n - 0s - loss: 374855422.4713\nEpoch 14/100\n - 0s - loss: 374678901.6348\nEpoch 15/100\n - 0s - loss: 374509150.8620\nEpoch 16/100\n - 0s - loss: 374343713.3361\nEpoch 17/100\n - 0s - loss: 374180098.6486\nEpoch 18/100\n - 0s - loss: 374020076.7813\nEpoch 19/100\n - 0s - loss: 373860608.5699\nEpoch 20/100\n - 0s - loss: 373710005.1230\nEpoch 21/100\n - 1s - loss: 373552113.3468\nEpoch 22/100\n - 0s - loss: 373399193.2899\nEpoch 23/100\n - 0s - loss: 373248381.1834\nEpoch 24/100\n - 0s - loss: 373094750.1505\nEpoch 25/100\n - 0s - loss: 372947014.0986\nEpoch 26/100\n - 0s - loss: 372799974.4588\nEpoch 27/100\n - 0s - loss: 372647086.5883\nEpoch 28/100\n - 0s - loss: 372503845.3377\nEpoch 29/100\n - 0s - loss: 372353280.7202\nEpoch 30/100\n - 0s - loss: 372205967.2592\nEpoch 31/100\n - 0s - loss: 372060205.6801\nEpoch 32/100\n - 0s - loss: 371916469.1787\nEpoch 33/100\n - 0s - loss: 371774495.2287\nEpoch 34/100\n - 0s - loss: 371622956.7601\nEpoch 35/100\n - 0s - loss: 371481993.3073\nEpoch 36/100\n - 0s - loss: 371337472.5942\nEpoch 37/100\n - 0s - loss: 371192527.6247\nEpoch 38/100\n - 0s - loss: 371049879.0487\nEpoch 39/100\n - 0s - loss: 370907992.5018\nEpoch 40/100\n - 0s - loss: 370764941.0320\nEpoch 41/100\n - 0s - loss: 370624723.3779\nEpoch 42/100\n - 0s - loss: 370475990.8522\nEpoch 43/100\n - 0s - loss: 370340559.0731\nEpoch 44/100\n - 0s - loss: 370192271.2107\nEpoch 45/100\n - 0s - loss: 370058685.1074\nEpoch 46/100\n - 0s - loss: 369910274.0453\nEpoch 47/100\n - 0s - loss: 369772272.7421\nEpoch 48/100\n - 0s - loss: 369628393.7535\nEpoch 49/100\n - 0s - loss: 369493757.5576\nEpoch 50/100\n - 0s - loss: 369349636.7845\nEpoch 51/100\n - 0s - loss: 369207147.7491\nEpoch 52/100\n - 0s - loss: 369071032.7797\nEpoch 53/100\n - 0s - loss: 368926860.0062\nEpoch 54/100\n - 0s - loss: 368791684.7909\nEpoch 55/100\n - 0s - loss: 368647200.9773\nEpoch 56/100\n - 0s - loss: 368509662.7139\nEpoch 57/100\n - 0s - loss: 368791352.2708\nEpoch 58/100\n - 0s - loss: 368236036.1085\nEpoch 59/100\n - 0s - loss: 368100695.1501\nEpoch 60/100\n - 0s - loss: 367957453.1549\nEpoch 61/100\n - 0s - loss: 367823271.8674\nEpoch 62/100\n - 0s - loss: 367680170.9968\nEpoch 63/100\n - 0s - loss: 367535058.8602\nEpoch 64/100\n - 0s - loss: 367061852.4989\nEpoch 65/100\n - 1s - loss: 366663338.3926\nEpoch 66/100\n - 0s - loss: 366337705.9446\nEpoch 67/100\n - 0s - loss: 366035862.5661\nEpoch 68/100\n - 0s - loss: 365751835.8008\nEpoch 69/100\n - 0s - loss: 365496828.6887\nEpoch 70/100\n - 0s - loss: 365237849.0516\nEpoch 71/100\n - 0s - loss: 364986292.3850\nEpoch 72/100\n - 0s - loss: 364746133.9255\nEpoch 73/100\n - 0s - loss: 364506064.0344\nEpoch 74/100\n - 0s - loss: 364270757.8912\nEpoch 75/100\n - 0s - loss: 364048177.7616\nEpoch 76/100\n - 0s - loss: 363818179.0892\nEpoch 77/100\n - 0s - loss: 363593221.5737\nEpoch 78/100\n - 0s - loss: 363372399.3367\nEpoch 79/100\n - 0s - loss: 363154567.9167\nEpoch 80/100\n - 0s - loss: 362940922.9310\nEpoch 81/100\n - 0s - loss: 362723864.2747\nEpoch 82/100\n - 0s - loss: 362507482.3924\nEpoch 83/100\n - 0s - loss: 362298768.3207\nEpoch 84/100\n - 0s - loss: 362089997.9562\nEpoch 85/100\n - 0s - loss: 361880169.2406\nEpoch 86/100\n - 0s - loss: 361669324.7364\nEpoch 87/100\n - 0s - loss: 361466524.5157\nEpoch 88/100\n - 0s - loss: 361260245.1005\nEpoch 89/100\n - 0s - loss: 361055378.0263\nEpoch 90/100\n - 0s - loss: 360849523.7559\nEpoch 91/100\n - 0s - loss: 360647527.1839\nEpoch 92/100\n - 0s - loss: 360451374.7590\nEpoch 93/100\n - 0s - loss: 360247459.8223\nEpoch 94/100\n - 0s - loss: 360045837.5796\nEpoch 95/100\n - 0s - loss: 359846034.0529\nEpoch 96/100\n - 0s - loss: 359645100.6880\nEpoch 97/100\n - 0s - loss: 359451660.9722\nEpoch 98/100\n - 0s - loss: 359252948.0583\nEpoch 99/100\n - 0s - loss: 359051693.7013\nEpoch 100/100\n - 0s - loss: 358858131.1940\n",
          "name": "stdout"
        }
      ]
    },
    {
      "metadata": {
        "trusted": true,
        "code_folding": []
      },
      "cell_type": "code",
      "source": "# history.history\n\nplt.plot(history.history['loss'])\nplt.show()",
      "execution_count": 52,
      "outputs": [
        {
          "output_type": "display_data",
          "data": {
            "image/png": "[encoded data removed]",
            "text/plain": "<Figure size 432x288 with 1 Axes>"
          },
          "metadata": {
            "needs_background": "light"
          }
        }
      ]
    },
    {
      "metadata": {
        "trusted": true
      },
      "cell_type": "code",
      "source": "# model.predict()\na[-1:]",
      "execution_count": null,
      "outputs": []
    },
    {
      "metadata": {
        "trusted": true
      },
      "cell_type": "code",
      "source": "model.predict(a[-1:])",
      "execution_count": null,
      "outputs": []
    },
    {
      "metadata": {
        "trusted": true
      },
      "cell_type": "code",
      "source": "",
      "execution_count": null,
      "outputs": []
    }
  ],
  "metadata": {
    "kernelspec": {
      "name": "python36",
      "display_name": "Python 3.6",
      "language": "python"
    },
    "toc": {
      "nav_menu": {},
      "number_sections": true,
      "sideBar": false,
      "skip_h1_title": true,
      "base_numbering": 1,
      "title_cell": "Table of Contents",
      "title_sidebar": "Contents",
      "toc_cell": false,
      "toc_position": {
        "height": "293px",
        "width": "241px",
        "left": "1100px",
        "top": "179px"
      },
      "toc_section_display": true,
      "toc_window_display": false
    },
    "varInspector": {
      "window_display": false,
      "cols": {
        "lenName": 16,
        "lenType": 16,
        "lenVar": 40
      },
      "kernels_config": {
        "python": {
          "library": "var_list.py",
          "delete_cmd_prefix": "del ",
          "delete_cmd_postfix": "",
          "varRefreshCmd": "print(var_dic_list())"
        },
        "r": {
          "library": "var_list.r",
          "delete_cmd_prefix": "rm(",
          "delete_cmd_postfix": ") ",
          "varRefreshCmd": "cat(var_dic_list()) "
        }
      },
      "types_to_exclude": [
        "module",
        "function",
        "builtin_function_or_method",
        "instance",
        "_Feature"
      ]
    },
    "language_info": {
      "mimetype": "text/x-python",
      "nbconvert_exporter": "python",
      "name": "python",
      "pygments_lexer": "ipython3",
      "version": "3.6.6",
      "file_extension": ".py",
      "codemirror_mode": {
        "version": 3,
        "name": "ipython"
      }
    }
  },
  "nbformat": 4,
  "nbformat_minor": 1
}