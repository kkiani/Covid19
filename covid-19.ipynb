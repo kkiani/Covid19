{
  "cells": [
    {
      "metadata": {},
      "cell_type": "markdown",
      "source": "**Covid-19 Crisis**\n\n\nCopyright 2020. Kiarash Kiani.\n* **Home Page:**    http://kiarash.info\n* **Email:**        hi@kiarash.info\n* **GitHub:**       github.com/kkiani\n\n# Introduction\nCoronavirus disease 2019 (COVID-19) is an infectious disease caused by severe acute respiratory syndrome coronavirus 2 (SARS-CoV-2). The disease was first identified in 2019 in Wuhan, China, and has since spread globally, resulting in the 2019–20 coronavirus pandemic. According to the World Health Organization (WHO), the most common symptoms are fever, tiredness, and dry cough.\n\n[Read more on Wikipedia](https://en.wikipedia.org/wiki/Coronavirus_disease_2019)"
    },
    {
      "metadata": {},
      "cell_type": "markdown",
      "source": "# Dataset\nThis dataset provided by [Our World in Data](https://ourworldindata.org/coronavirus-source-data) website. In the first steps we do some basic Pandas manipulation inorder to get know the nature of our data better.\n\n<span style=\"background-color: red;\">*ATTENTION: This notebook created by the time that dataset has only recoreds until 15 march 2020.*</span>"
    },
    {
      "metadata": {
        "trusted": true,
        "scrolled": true
      },
      "cell_type": "code",
      "source": "import pandas as pd\nimport matplotlib.pyplot as plt\nimport numpy as np",
      "execution_count": null,
      "outputs": [
        {
          "output_type": "stream",
          "text": "/home/nbuser/anaconda3_501/lib/python3.6/site-packages/matplotlib/font_manager.py:229: UserWarning: Matplotlib is building the font cache using fc-list. This may take a moment.\n  'Matplotlib is building the font cache using fc-list. '\n",
          "name": "stderr"
        }
      ]
    },
    {
      "metadata": {
        "trusted": true
      },
      "cell_type": "code",
      "source": "total_cases_path = 'https://covid.ourworldindata.org/data/ecdc/total_cases.csv'\ntotal_deaths_path = 'https://covid.ourworldindata.org/data/ecdc/total_deaths.csv'\nnew_cases_path = 'https://covid.ourworldindata.org/data/ecdc/new_cases.csv'\n\ndf = pd.read_csv(total_cases_path)",
      "execution_count": null,
      "outputs": []
    },
    {
      "metadata": {},
      "cell_type": "markdown",
      "source": "List of countries"
    },
    {
      "metadata": {
        "trusted": true
      },
      "cell_type": "code",
      "source": "df.columns.values",
      "execution_count": null,
      "outputs": []
    },
    {
      "metadata": {},
      "cell_type": "markdown",
      "source": "5 most affected countries:"
    },
    {
      "metadata": {
        "trusted": true
      },
      "cell_type": "code",
      "source": "last_row  = df.tail(1).copy()\nlast_row.drop(['World', 'date'], axis=1, inplace=True)\n\nlast_row = last_row.T\nlast_row.reset_index()\nlast_row.columns = ['total cases']",
      "execution_count": null,
      "outputs": []
    },
    {
      "metadata": {
        "trusted": true,
        "scrolled": true
      },
      "cell_type": "code",
      "source": "last_row.sort_values(['total cases'], ascending=False).head(5)",
      "execution_count": null,
      "outputs": []
    },
    {
      "metadata": {},
      "cell_type": "markdown",
      "source": "5 less affected countries"
    },
    {
      "metadata": {
        "trusted": true
      },
      "cell_type": "code",
      "source": "last_row.sort_values(['total cases'], ascending=False).tail(5)",
      "execution_count": null,
      "outputs": []
    },
    {
      "metadata": {},
      "cell_type": "markdown",
      "source": "How many days we pass from the begining of crisis?"
    },
    {
      "metadata": {
        "trusted": true
      },
      "cell_type": "code",
      "source": "months = df.shape[0]//30\ndays = df.shape[0]%30\n\nprint(f'{months} months and {days} days. {df.shape[0]} days in total.')",
      "execution_count": null,
      "outputs": []
    },
    {
      "metadata": {},
      "cell_type": "markdown",
      "source": "Plot growing of cases in the 5 most affected contries"
    },
    {
      "metadata": {
        "trusted": true
      },
      "cell_type": "code",
      "source": "china = df['China'].fillna(0).values\nitaly = df['Italy'].fillna(0).values\niran = df['Iran'].fillna(0).values\nkorea = df['South Korea'].fillna(0).values\nspain = df['Spain'].fillna(0).values\nworld = df['World'].fillna(0).values\n\nplt.plot(china, label='china')\nplt.plot(italy, label='italy')\nplt.plot(iran, label='iran')\nplt.plot(korea, label='south korea')\nplt.plot(spain, label='spain')\nplt.plot(world, label='world')\n\nplt.legend()\nplt.show()",
      "execution_count": null,
      "outputs": []
    },
    {
      "metadata": {},
      "cell_type": "markdown",
      "source": "Looks like China has a diffrent pattern compared to other four countries. let remove china"
    },
    {
      "metadata": {
        "trusted": true
      },
      "cell_type": "code",
      "source": "world_without_china = world - china\n\nplt.plot(italy, label='italy')\nplt.plot(iran, label='iran')\nplt.plot(korea, label='south korea')\nplt.plot(spain, label='spain')\nplt.plot(world_without_china, label='world without china')\n\nplt.legend()\nplt.show()",
      "execution_count": null,
      "outputs": []
    },
    {
      "metadata": {
        "trusted": true
      },
      "cell_type": "code",
      "source": "iran = df['Iran'].fillna(0).values\n\nplt.plot(iran, label='Iran')\nplt.plot(world_without_china, label='world without china')\nplt.legend()\nplt.show()",
      "execution_count": null,
      "outputs": []
    },
    {
      "metadata": {},
      "cell_type": "markdown",
      "source": "Plot Iran growing number of cases from the beging of Global Crises"
    },
    {
      "metadata": {
        "trusted": true,
        "scrolled": true
      },
      "cell_type": "code",
      "source": "plt.plot(iran)\nplt.show()",
      "execution_count": null,
      "outputs": []
    },
    {
      "metadata": {
        "trusted": true,
        "scrolled": true
      },
      "cell_type": "code",
      "source": "iran2 = df['Iran'].dropna().values\n\nplt.plot(iran2)\nplt.show()",
      "execution_count": null,
      "outputs": []
    },
    {
      "metadata": {
        "trusted": true
      },
      "cell_type": "code",
      "source": "italia = df['Italy'].fillna(0).values\n\nplt.plot(iran, label='Iran')\nplt.plot(italia, label='Italy')\n#plt.plot(other_than_china, label='world without china')\nplt.legend()\nplt.show()",
      "execution_count": null,
      "outputs": []
    },
    {
      "metadata": {
        "trusted": true
      },
      "cell_type": "code",
      "source": "iran = df['Iran'].fillna(1).values\nitaly = df['Italy'].fillna(1).values\n\nplt.plot(np.log(iran), label='iran')\nplt.plot(np.log(italy), label='italy')\nplt.legend()\nplt.show()",
      "execution_count": null,
      "outputs": []
    },
    {
      "metadata": {
        "trusted": true
      },
      "cell_type": "code",
      "source": "korea = df['South Korea'].fillna(0).values\n\nplt.plot(korea)\nplt.show()",
      "execution_count": null,
      "outputs": []
    },
    {
      "metadata": {
        "trusted": true
      },
      "cell_type": "code",
      "source": "",
      "execution_count": null,
      "outputs": []
    }
  ],
  "metadata": {
    "kernelspec": {
      "name": "python36",
      "display_name": "Python 3.6",
      "language": "python"
    },
    "language_info": {
      "mimetype": "text/x-python",
      "nbconvert_exporter": "python",
      "name": "python",
      "pygments_lexer": "ipython3",
      "version": "3.6.6",
      "file_extension": ".py",
      "codemirror_mode": {
        "version": 3,
        "name": "ipython"
      }
    },
    "toc": {
      "nav_menu": {},
      "number_sections": true,
      "sideBar": true,
      "skip_h1_title": false,
      "base_numbering": 1,
      "title_cell": "Table of Contents",
      "title_sidebar": "Contents",
      "toc_cell": false,
      "toc_position": {
        "height": "calc(100% - 180px)",
        "width": "248px",
        "left": "10px",
        "top": "150px"
      },
      "toc_section_display": true,
      "toc_window_display": false
    },
    "varInspector": {
      "window_display": false,
      "cols": {
        "lenName": 16,
        "lenType": 16,
        "lenVar": 40
      },
      "kernels_config": {
        "python": {
          "library": "var_list.py",
          "delete_cmd_prefix": "del ",
          "delete_cmd_postfix": "",
          "varRefreshCmd": "print(var_dic_list())"
        },
        "r": {
          "library": "var_list.r",
          "delete_cmd_prefix": "rm(",
          "delete_cmd_postfix": ") ",
          "varRefreshCmd": "cat(var_dic_list()) "
        }
      },
      "types_to_exclude": [
        "module",
        "function",
        "builtin_function_or_method",
        "instance",
        "_Feature"
      ]
    }
  },
  "nbformat": 4,
  "nbformat_minor": 1
}